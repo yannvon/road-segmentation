{
 "cells": [
  {
   "cell_type": "code",
   "execution_count": 1,
   "metadata": {},
   "outputs": [
    {
     "name": "stderr",
     "output_type": "stream",
     "text": [
      "/root/anaconda3/lib/python3.6/site-packages/h5py/__init__.py:36: FutureWarning: Conversion of the second argument of issubdtype from `float` to `np.floating` is deprecated. In future, it will be treated as `np.float64 == np.dtype(float).type`.\n",
      "  from ._conv import register_converters as _register_converters\n",
      "Using TensorFlow backend.\n"
     ]
    }
   ],
   "source": [
    "import keras\n",
    "from keras.datasets import mnist\n",
    "from keras.models import Sequential\n",
    "from keras.layers import Dense, Dropout, Flatten\n",
    "from keras.layers import Conv2D, MaxPooling2D\n",
    "import numpy as np"
   ]
  },
  {
   "cell_type": "code",
   "execution_count": 3,
   "metadata": {},
   "outputs": [],
   "source": [
    "def createCNN():\n",
    "    ##Parameters\n",
    "    #FIXME to be tuned and tested\n",
    "    kernel_size = (3,3)\n",
    "    pool_size = (2,2)\n",
    "    conv_size = 64\n",
    "    alpha_relu = 0.01\n",
    "    dropout_rate = 0.2\n",
    "    dim = 128\n",
    "    #FIXME Windows size ?\n",
    "    \n",
    "    \n",
    "    model = Sequential()\n",
    "    \n",
    "    #Add convolution \n",
    "    model.add(Convolution2D(conv_size, #number of output filters, it increases the size model\n",
    "                            kernel_size,\n",
    "                            #Handle border\n",
    "                            border_mode='',\n",
    "                            input_shape=(..,..,..)))\n",
    "    #Add activation function\n",
    "    model.add(LeakyReLU(alpha_relu))\n",
    "    #Add max pooling to reduce size\n",
    "    model.add(MaxPooling2D(pool_size)#size needs to be set\n",
    "    \n",
    "    #Add dropout to avoid overfitting\n",
    "    model.add(Dropout(dropout_rate))\n",
    "    \n",
    "    ##REPEAT A CERTAIN AMOUNT OF TIMES..\n",
    "    \n",
    "              \n",
    "              \n",
    "              \n",
    "    #End of the neural network\n",
    "              \n",
    "    model.add(Flatten())\n",
    "    #dim is the dimensionality of the output space.\n",
    "    model.add(Dense(dim))#Add regularizer\n",
    "    model.add(LeakyReLU(alpha_relu))\n",
    "    model.add(Dropout(dropout_rate))\n",
    "    model.add(Dense(dim))#Add regularizer\n",
    "    \n",
    "    return model"
   ]
  },
  {
   "cell_type": "code",
   "execution_count": null,
   "metadata": {},
   "outputs": [],
   "source": []
  }
 ],
 "metadata": {
  "kernelspec": {
   "display_name": "Python 3",
   "language": "python",
   "name": "python3"
  },
  "language_info": {
   "codemirror_mode": {
    "name": "ipython",
    "version": 3
   },
   "file_extension": ".py",
   "mimetype": "text/x-python",
   "name": "python",
   "nbconvert_exporter": "python",
   "pygments_lexer": "ipython3",
   "version": "3.6.5"
  }
 },
 "nbformat": 4,
 "nbformat_minor": 2
}

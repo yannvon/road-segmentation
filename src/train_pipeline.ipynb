{
 "cells": [
  {
   "cell_type": "code",
   "execution_count": 1,
   "metadata": {},
   "outputs": [
    {
     "name": "stderr",
     "output_type": "stream",
     "text": [
      "Using TensorFlow backend.\n"
     ]
    }
   ],
   "source": [
    "from constants import *\n",
    "from basic_model import BasicModel\n",
    "from vgg_model import VGGModel\n",
    "from preprocessing_helper import *\n",
    "from postprocessing_helper import *\n",
    "\n",
    "import os\n",
    "import sys"
   ]
  },
  {
   "cell_type": "code",
   "execution_count": 2,
   "metadata": {},
   "outputs": [],
   "source": [
    "# Set Train data Directory\n",
    "data_dir = '../dataset/training/'"
   ]
  },
  {
   "cell_type": "code",
   "execution_count": 3,
   "metadata": {},
   "outputs": [
    {
     "name": "stdout",
     "output_type": "stream",
     "text": [
      "Loading 100 images\n",
      "[[0.19215687 0.2509804  0.15294118]\n",
      " [0.21568628 0.27058825 0.1764706 ]\n",
      " [0.1764706  0.23921569 0.14901961]\n",
      " ...\n",
      " [0.11372549 0.10196079 0.08235294]\n",
      " [0.10196079 0.09411765 0.08235294]\n",
      " [0.00392157 0.         0.        ]]\n",
      "Loading 100 images\n",
      "satImage_054.png\n"
     ]
    }
   ],
   "source": [
    "# Option 1: Load entire images\n",
    "\n",
    "image_dir = data_dir + \"images/\"\n",
    "files = os.listdir(image_dir)\n",
    "n = len(files)\n",
    "print(\"Loading \" + str(n) + \" images\")\n",
    "imgs = [load_image(image_dir + files[i]) for i in range(n)]\n",
    "print(imgs[0][2])\n",
    "\n",
    "gt_dir = data_dir + \"groundtruth/\"\n",
    "print(\"Loading \" + str(n) + \" images\")\n",
    "gt_imgs = [load_image(gt_dir + files[i]) for i in range(n)]\n",
    "print(files[0])\n"
   ]
  },
  {
   "cell_type": "code",
   "execution_count": 4,
   "metadata": {},
   "outputs": [],
   "source": [
    "# Choose model\n",
    "model = VGGModel()\n",
    "# model = BasicModel()\n",
    "# model = CNNModel()\n",
    "# model = TeslaModelS()"
   ]
  },
  {
   "cell_type": "code",
   "execution_count": 5,
   "metadata": {},
   "outputs": [
    {
     "name": "stdout",
     "output_type": "stream",
     "text": [
      "Loading ../dataset/training/images/satImage_001.png\n",
      "Loading ../dataset/training/images/satImage_002.png\n",
      "Loading ../dataset/training/images/satImage_003.png\n",
      "Loading ../dataset/training/images/satImage_004.png\n",
      "Loading ../dataset/training/images/satImage_005.png\n",
      "Loading ../dataset/training/images/satImage_006.png\n",
      "Loading ../dataset/training/images/satImage_007.png\n",
      "Loading ../dataset/training/images/satImage_008.png\n",
      "Loading ../dataset/training/images/satImage_009.png\n",
      "Loading ../dataset/training/images/satImage_010.png\n",
      "Loading ../dataset/training/images/satImage_011.png\n",
      "Loading ../dataset/training/images/satImage_012.png\n",
      "Loading ../dataset/training/images/satImage_013.png\n",
      "Loading ../dataset/training/images/satImage_014.png\n",
      "Loading ../dataset/training/images/satImage_015.png\n",
      "Loading ../dataset/training/images/satImage_016.png\n",
      "Loading ../dataset/training/images/satImage_017.png\n",
      "Loading ../dataset/training/images/satImage_018.png\n",
      "Loading ../dataset/training/images/satImage_019.png\n",
      "Loading ../dataset/training/images/satImage_020.png\n",
      "Loading ../dataset/training/images/satImage_021.png\n",
      "Loading ../dataset/training/images/satImage_022.png\n",
      "Loading ../dataset/training/images/satImage_023.png\n",
      "Loading ../dataset/training/images/satImage_024.png\n",
      "Loading ../dataset/training/images/satImage_025.png\n",
      "Loading ../dataset/training/images/satImage_026.png\n",
      "Loading ../dataset/training/images/satImage_027.png\n",
      "Loading ../dataset/training/images/satImage_028.png\n",
      "Loading ../dataset/training/images/satImage_029.png\n",
      "Loading ../dataset/training/images/satImage_030.png\n",
      "Loading ../dataset/training/images/satImage_031.png\n",
      "Loading ../dataset/training/images/satImage_032.png\n",
      "Loading ../dataset/training/images/satImage_033.png\n",
      "Loading ../dataset/training/images/satImage_034.png\n",
      "Loading ../dataset/training/images/satImage_035.png\n",
      "Loading ../dataset/training/images/satImage_036.png\n",
      "Loading ../dataset/training/images/satImage_037.png\n",
      "Loading ../dataset/training/images/satImage_038.png\n",
      "Loading ../dataset/training/images/satImage_039.png\n",
      "Loading ../dataset/training/images/satImage_040.png\n",
      "Loading ../dataset/training/images/satImage_041.png\n",
      "Loading ../dataset/training/images/satImage_042.png\n",
      "Loading ../dataset/training/images/satImage_043.png\n",
      "Loading ../dataset/training/images/satImage_044.png\n",
      "Loading ../dataset/training/images/satImage_045.png\n",
      "Loading ../dataset/training/images/satImage_046.png\n",
      "Loading ../dataset/training/images/satImage_047.png\n",
      "Loading ../dataset/training/images/satImage_048.png\n",
      "Loading ../dataset/training/images/satImage_049.png\n",
      "Loading ../dataset/training/images/satImage_050.png\n",
      "Loading ../dataset/training/images/satImage_051.png\n",
      "Loading ../dataset/training/images/satImage_052.png\n",
      "Loading ../dataset/training/images/satImage_053.png\n",
      "Loading ../dataset/training/images/satImage_054.png\n",
      "Loading ../dataset/training/images/satImage_055.png\n",
      "Loading ../dataset/training/images/satImage_056.png\n",
      "Loading ../dataset/training/images/satImage_057.png\n",
      "Loading ../dataset/training/images/satImage_058.png\n",
      "Loading ../dataset/training/images/satImage_059.png\n",
      "Loading ../dataset/training/images/satImage_060.png\n",
      "Loading ../dataset/training/images/satImage_061.png\n",
      "Loading ../dataset/training/images/satImage_062.png\n",
      "Loading ../dataset/training/images/satImage_063.png\n",
      "Loading ../dataset/training/images/satImage_064.png\n",
      "Loading ../dataset/training/images/satImage_065.png\n",
      "Loading ../dataset/training/images/satImage_066.png\n",
      "Loading ../dataset/training/images/satImage_067.png\n",
      "Loading ../dataset/training/images/satImage_068.png\n",
      "Loading ../dataset/training/images/satImage_069.png\n",
      "Loading ../dataset/training/images/satImage_070.png\n",
      "Loading ../dataset/training/images/satImage_071.png\n",
      "Loading ../dataset/training/images/satImage_072.png\n",
      "Loading ../dataset/training/images/satImage_073.png\n",
      "Loading ../dataset/training/images/satImage_074.png\n",
      "Loading ../dataset/training/images/satImage_075.png\n",
      "Loading ../dataset/training/images/satImage_076.png\n",
      "Loading ../dataset/training/images/satImage_077.png\n",
      "Loading ../dataset/training/images/satImage_078.png\n",
      "Loading ../dataset/training/images/satImage_079.png\n",
      "Loading ../dataset/training/images/satImage_080.png\n",
      "Loading ../dataset/training/images/satImage_081.png\n",
      "Loading ../dataset/training/images/satImage_082.png\n",
      "Loading ../dataset/training/images/satImage_083.png\n",
      "Loading ../dataset/training/images/satImage_084.png\n",
      "Loading ../dataset/training/images/satImage_085.png\n",
      "Loading ../dataset/training/images/satImage_086.png\n",
      "Loading ../dataset/training/images/satImage_087.png\n",
      "Loading ../dataset/training/images/satImage_088.png\n",
      "Loading ../dataset/training/images/satImage_089.png\n",
      "Loading ../dataset/training/images/satImage_090.png\n",
      "Loading ../dataset/training/images/satImage_091.png\n",
      "Loading ../dataset/training/images/satImage_092.png\n",
      "Loading ../dataset/training/images/satImage_093.png\n",
      "Loading ../dataset/training/images/satImage_094.png\n",
      "Loading ../dataset/training/images/satImage_095.png\n",
      "Loading ../dataset/training/images/satImage_096.png\n",
      "Loading ../dataset/training/images/satImage_097.png\n",
      "Loading ../dataset/training/images/satImage_098.png\n",
      "Loading ../dataset/training/images/satImage_099.png\n",
      "Loading ../dataset/training/images/satImage_100.png\n",
      "Loading ../dataset/training/groundtruth/satImage_001.png\n",
      "Loading ../dataset/training/groundtruth/satImage_002.png\n",
      "Loading ../dataset/training/groundtruth/satImage_003.png\n",
      "Loading ../dataset/training/groundtruth/satImage_004.png\n",
      "Loading ../dataset/training/groundtruth/satImage_005.png\n",
      "Loading ../dataset/training/groundtruth/satImage_006.png\n",
      "Loading ../dataset/training/groundtruth/satImage_007.png\n",
      "Loading ../dataset/training/groundtruth/satImage_008.png\n",
      "Loading ../dataset/training/groundtruth/satImage_009.png\n",
      "Loading ../dataset/training/groundtruth/satImage_010.png\n",
      "Loading ../dataset/training/groundtruth/satImage_011.png\n",
      "Loading ../dataset/training/groundtruth/satImage_012.png\n",
      "Loading ../dataset/training/groundtruth/satImage_013.png\n",
      "Loading ../dataset/training/groundtruth/satImage_014.png\n",
      "Loading ../dataset/training/groundtruth/satImage_015.png\n",
      "Loading ../dataset/training/groundtruth/satImage_016.png\n",
      "Loading ../dataset/training/groundtruth/satImage_017.png\n",
      "Loading ../dataset/training/groundtruth/satImage_018.png\n",
      "Loading ../dataset/training/groundtruth/satImage_019.png\n",
      "Loading ../dataset/training/groundtruth/satImage_020.png\n",
      "Loading ../dataset/training/groundtruth/satImage_021.png\n",
      "Loading ../dataset/training/groundtruth/satImage_022.png\n",
      "Loading ../dataset/training/groundtruth/satImage_023.png\n",
      "Loading ../dataset/training/groundtruth/satImage_024.png\n",
      "Loading ../dataset/training/groundtruth/satImage_025.png\n",
      "Loading ../dataset/training/groundtruth/satImage_026.png\n",
      "Loading ../dataset/training/groundtruth/satImage_027.png\n",
      "Loading ../dataset/training/groundtruth/satImage_028.png\n",
      "Loading ../dataset/training/groundtruth/satImage_029.png\n",
      "Loading ../dataset/training/groundtruth/satImage_030.png\n",
      "Loading ../dataset/training/groundtruth/satImage_031.png\n",
      "Loading ../dataset/training/groundtruth/satImage_032.png\n",
      "Loading ../dataset/training/groundtruth/satImage_033.png\n",
      "Loading ../dataset/training/groundtruth/satImage_034.png\n",
      "Loading ../dataset/training/groundtruth/satImage_035.png\n",
      "Loading ../dataset/training/groundtruth/satImage_036.png\n",
      "Loading ../dataset/training/groundtruth/satImage_037.png\n",
      "Loading ../dataset/training/groundtruth/satImage_038.png\n",
      "Loading ../dataset/training/groundtruth/satImage_039.png\n",
      "Loading ../dataset/training/groundtruth/satImage_040.png\n",
      "Loading ../dataset/training/groundtruth/satImage_041.png\n",
      "Loading ../dataset/training/groundtruth/satImage_042.png\n",
      "Loading ../dataset/training/groundtruth/satImage_043.png\n",
      "Loading ../dataset/training/groundtruth/satImage_044.png\n",
      "Loading ../dataset/training/groundtruth/satImage_045.png\n",
      "Loading ../dataset/training/groundtruth/satImage_046.png\n",
      "Loading ../dataset/training/groundtruth/satImage_047.png\n",
      "Loading ../dataset/training/groundtruth/satImage_048.png\n",
      "Loading ../dataset/training/groundtruth/satImage_049.png\n",
      "Loading ../dataset/training/groundtruth/satImage_050.png\n",
      "Loading ../dataset/training/groundtruth/satImage_051.png\n",
      "Loading ../dataset/training/groundtruth/satImage_052.png\n",
      "Loading ../dataset/training/groundtruth/satImage_053.png\n",
      "Loading ../dataset/training/groundtruth/satImage_054.png\n",
      "Loading ../dataset/training/groundtruth/satImage_055.png\n",
      "Loading ../dataset/training/groundtruth/satImage_056.png\n",
      "Loading ../dataset/training/groundtruth/satImage_057.png\n",
      "Loading ../dataset/training/groundtruth/satImage_058.png\n",
      "Loading ../dataset/training/groundtruth/satImage_059.png\n",
      "Loading ../dataset/training/groundtruth/satImage_060.png\n",
      "Loading ../dataset/training/groundtruth/satImage_061.png\n",
      "Loading ../dataset/training/groundtruth/satImage_062.png\n",
      "Loading ../dataset/training/groundtruth/satImage_063.png\n",
      "Loading ../dataset/training/groundtruth/satImage_064.png\n",
      "Loading ../dataset/training/groundtruth/satImage_065.png\n",
      "Loading ../dataset/training/groundtruth/satImage_066.png\n",
      "Loading ../dataset/training/groundtruth/satImage_067.png\n",
      "Loading ../dataset/training/groundtruth/satImage_068.png\n",
      "Loading ../dataset/training/groundtruth/satImage_069.png\n",
      "Loading ../dataset/training/groundtruth/satImage_070.png\n",
      "Loading ../dataset/training/groundtruth/satImage_071.png\n",
      "Loading ../dataset/training/groundtruth/satImage_072.png\n",
      "Loading ../dataset/training/groundtruth/satImage_073.png\n",
      "Loading ../dataset/training/groundtruth/satImage_074.png\n",
      "Loading ../dataset/training/groundtruth/satImage_075.png\n",
      "Loading ../dataset/training/groundtruth/satImage_076.png\n",
      "Loading ../dataset/training/groundtruth/satImage_077.png\n",
      "Loading ../dataset/training/groundtruth/satImage_078.png\n",
      "Loading ../dataset/training/groundtruth/satImage_079.png\n",
      "Loading ../dataset/training/groundtruth/satImage_080.png\n",
      "Loading ../dataset/training/groundtruth/satImage_081.png\n",
      "Loading ../dataset/training/groundtruth/satImage_082.png\n",
      "Loading ../dataset/training/groundtruth/satImage_083.png\n",
      "Loading ../dataset/training/groundtruth/satImage_084.png\n",
      "Loading ../dataset/training/groundtruth/satImage_085.png\n",
      "Loading ../dataset/training/groundtruth/satImage_086.png\n",
      "Loading ../dataset/training/groundtruth/satImage_087.png\n",
      "Loading ../dataset/training/groundtruth/satImage_088.png\n",
      "Loading ../dataset/training/groundtruth/satImage_089.png\n",
      "Loading ../dataset/training/groundtruth/satImage_090.png\n",
      "Loading ../dataset/training/groundtruth/satImage_091.png\n",
      "Loading ../dataset/training/groundtruth/satImage_092.png\n",
      "Loading ../dataset/training/groundtruth/satImage_093.png\n",
      "Loading ../dataset/training/groundtruth/satImage_094.png\n",
      "Loading ../dataset/training/groundtruth/satImage_095.png\n",
      "Loading ../dataset/training/groundtruth/satImage_096.png\n",
      "Loading ../dataset/training/groundtruth/satImage_097.png\n",
      "Loading ../dataset/training/groundtruth/satImage_098.png\n",
      "Loading ../dataset/training/groundtruth/satImage_099.png\n",
      "Loading ../dataset/training/groundtruth/satImage_100.png\n"
     ]
    }
   ],
   "source": [
    "# Option 2: Model loads files itself\n",
    "model.load_data(image_dir, gt_dir, constants.TRAINING_SIZE)\n"
   ]
  },
  {
   "cell_type": "code",
   "execution_count": 6,
   "metadata": {},
   "outputs": [
    {
     "name": "stdout",
     "output_type": "stream",
     "text": [
      "Epoch 1/1\n",
      "1758/1757 [==============================] - 139s 79ms/step - loss: 0.6770 - acc: 0.7586 - val_loss: 0.4306 - val_acc: 0.8046\n"
     ]
    }
   ],
   "source": [
    "# Train model\n",
    "model.train(epochs=1, validation_split=0.1)"
   ]
  },
  {
   "cell_type": "code",
   "execution_count": 7,
   "metadata": {},
   "outputs": [
    {
     "name": "stdout",
     "output_type": "stream",
     "text": [
      "F1 score = 0.41884816753926696\n"
     ]
    }
   ],
   "source": [
    "# Get F1 score\n",
    "model.f1_score()"
   ]
  },
  {
   "cell_type": "code",
   "execution_count": 8,
   "metadata": {},
   "outputs": [
    {
     "name": "stderr",
     "output_type": "stream",
     "text": [
      "/home/ubuntu/road-segmentation/src/postprocessing_helper.py:115: RuntimeWarning: invalid value encountered in true_divide\n",
      "  rimg = (rimg / numpy.max(rimg) * constants.PIXEL_DEPTH).round().astype(numpy.uint8)\n"
     ]
    }
   ],
   "source": [
    "# Create Training set images\n",
    "# Set directory to save images\n",
    "prediction_training_dir = \"predictions_training/\"\n",
    "model.generate_images(prediction_training_dir, image_dir)"
   ]
  },
  {
   "cell_type": "code",
   "execution_count": 9,
   "metadata": {},
   "outputs": [],
   "source": [
    "# Predict Test Set -> Create submission and save Images\n",
    "model.generate_submission()"
   ]
  },
  {
   "cell_type": "code",
   "execution_count": 10,
   "metadata": {},
   "outputs": [
    {
     "name": "stdout",
     "output_type": "stream",
     "text": [
      "Saved model to disk\n"
     ]
    }
   ],
   "source": [
    "# Save model\n",
    "model.save()"
   ]
  }
 ],
 "metadata": {
  "kernelspec": {
   "display_name": "Environment (conda_tensorflow_p36)",
   "language": "python",
   "name": "conda_tensorflow_p36"
  },
  "language_info": {
   "codemirror_mode": {
    "name": "ipython",
    "version": 3
   },
   "file_extension": ".py",
   "mimetype": "text/x-python",
   "name": "python",
   "nbconvert_exporter": "python",
   "pygments_lexer": "ipython3",
   "version": "3.6.5"
  }
 },
 "nbformat": 4,
 "nbformat_minor": 2
}

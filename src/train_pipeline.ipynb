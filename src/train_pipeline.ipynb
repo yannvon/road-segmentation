{
 "cells": [
  {
   "cell_type": "code",
   "execution_count": 1,
   "metadata": {},
   "outputs": [
    {
     "name": "stderr",
     "output_type": "stream",
     "text": [
      "Using TensorFlow backend.\n"
     ]
    }
   ],
   "source": [
    "from constants import *\n",
    "from basic_model import BasicModel\n",
    "from vgg_model_v2 import VGGModel2\n",
    "from vgg_model import VGGModel\n",
    "from yann_model import YannModel\n",
    "\n",
    "from preprocessing_helper import *\n",
    "from postprocessing_helper import *\n",
    "\n",
    "import os\n",
    "import sys"
   ]
  },
  {
   "cell_type": "code",
   "execution_count": 2,
   "metadata": {},
   "outputs": [],
   "source": [
    "# Set Train data Directory\n",
    "data_dir = '../dataset/training/'"
   ]
  },
  {
   "cell_type": "code",
   "execution_count": 3,
   "metadata": {},
   "outputs": [
    {
     "name": "stdout",
     "output_type": "stream",
     "text": [
      "Loading 100 images\n",
      "[[0.19215687 0.2509804  0.15294118]\n",
      " [0.21568628 0.27058825 0.1764706 ]\n",
      " [0.1764706  0.23921569 0.14901961]\n",
      " ...\n",
      " [0.11372549 0.10196079 0.08235294]\n",
      " [0.10196079 0.09411765 0.08235294]\n",
      " [0.00392157 0.         0.        ]]\n",
      "Loading 100 images\n",
      "satImage_054.png\n"
     ]
    }
   ],
   "source": [
    "# Option 1: Load entire images\n",
    "\n",
    "image_dir = data_dir + \"images/\"\n",
    "files = os.listdir(image_dir)\n",
    "n = len(files)\n",
    "print(\"Loading \" + str(n) + \" images\")\n",
    "imgs = [load_image(image_dir + files[i]) for i in range(n)]\n",
    "print(imgs[0][2])\n",
    "\n",
    "gt_dir = data_dir + \"groundtruth/\"\n",
    "print(\"Loading \" + str(n) + \" images\")\n",
    "gt_imgs = [load_image(gt_dir + files[i]) for i in range(n)]\n",
    "print(files[0])\n"
   ]
  },
  {
   "cell_type": "code",
   "execution_count": 4,
   "metadata": {},
   "outputs": [],
   "source": [
    "# Choose model\n",
    "# model = YannModel()\n",
    "model = VGGModel2()\n",
    "# model = BasicModel()\n",
    "# model = CNNModel()\n",
    "# model = TeslaModelS()"
   ]
  },
  {
   "cell_type": "code",
   "execution_count": 5,
   "metadata": {},
   "outputs": [
    {
     "name": "stdout",
     "output_type": "stream",
     "text": [
      "Loading 100 images\n",
      "[[0.19215687 0.2509804  0.15294118]\n",
      " [0.21568628 0.27058825 0.1764706 ]\n",
      " [0.1764706  0.23921569 0.14901961]\n",
      " ...\n",
      " [0.11372549 0.10196079 0.08235294]\n",
      " [0.10196079 0.09411765 0.08235294]\n",
      " [0.00392157 0.         0.        ]]\n",
      "Loading 100 images\n",
      "satImage_054.png\n"
     ]
    }
   ],
   "source": [
    "# Option 2: Model loads files itself\n",
    "model.load_data(image_dir, gt_dir, constants.TRAINING_SIZE)\n"
   ]
  },
  {
   "cell_type": "code",
   "execution_count": null,
   "metadata": {},
   "outputs": [
    {
     "name": "stdout",
     "output_type": "stream",
     "text": [
      "Epoch 1/200\n",
      " 89/800 [==>...........................] - ETA: 2:13 - loss: 1.0067 - acc: 0.5990"
     ]
    }
   ],
   "source": [
    "# Train model\n",
    "model.train(epochs=200, validation_split=0.1)"
   ]
  },
  {
   "cell_type": "code",
   "execution_count": null,
   "metadata": {},
   "outputs": [],
   "source": [
    "# Get F1 score\n",
    "# model.f1_score()"
   ]
  },
  {
   "cell_type": "code",
   "execution_count": null,
   "metadata": {},
   "outputs": [],
   "source": [
    "# Create Training set images\n",
    "# Set directory to save images\n",
    "prediction_training_dir = \"predictions_training/\"\n",
    "model.generate_images(prediction_training_dir, image_dir)"
   ]
  },
  {
   "cell_type": "code",
   "execution_count": null,
   "metadata": {},
   "outputs": [],
   "source": [
    "# Predict Test Set -> Create submission and save Images\n",
    "model.generate_submission()"
   ]
  },
  {
   "cell_type": "code",
   "execution_count": null,
   "metadata": {},
   "outputs": [],
   "source": [
    "# Save model\n",
    "model.save()"
   ]
  },
  {
   "cell_type": "code",
   "execution_count": null,
   "metadata": {},
   "outputs": [],
   "source": []
  }
 ],
 "metadata": {
  "kernelspec": {
   "display_name": "Environment (conda_tensorflow_p36)",
   "language": "python",
   "name": "conda_tensorflow_p36"
  },
  "language_info": {
   "codemirror_mode": {
    "name": "ipython",
    "version": 3
   },
   "file_extension": ".py",
   "mimetype": "text/x-python",
   "name": "python",
   "nbconvert_exporter": "python",
   "pygments_lexer": "ipython3",
   "version": "3.6.5"
  }
 },
 "nbformat": 4,
 "nbformat_minor": 2
}

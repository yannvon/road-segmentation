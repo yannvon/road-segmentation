{
 "cells": [
  {
   "cell_type": "code",
   "execution_count": 1,
   "metadata": {},
   "outputs": [
    {
     "name": "stderr",
     "output_type": "stream",
     "text": [
      "Using TensorFlow backend.\n"
     ]
    }
   ],
   "source": [
    "from constants import *\n",
    "from basic_model import BasicModel\n",
    "from preprocessing_helper import *\n",
    "from submission_helper import *\n",
    "\n",
    "import os\n",
    "import sys\n"
   ]
  },
  {
   "cell_type": "code",
   "execution_count": 2,
   "metadata": {},
   "outputs": [
    {
     "name": "stdout",
     "output_type": "stream",
     "text": [
      "Loading 100 images\n",
      "[[0.19215687 0.2509804  0.15294118]\n",
      " [0.21568628 0.27058825 0.1764706 ]\n",
      " [0.1764706  0.23921569 0.14901961]\n",
      " ...\n",
      " [0.11372549 0.10196079 0.08235294]\n",
      " [0.10196079 0.09411765 0.08235294]\n",
      " [0.00392157 0.         0.        ]]\n",
      "Loading 100 images\n",
      "satImage_054.png\n",
      "Loading ../dataset/training/images/satImage_001.png\n",
      "Loading ../dataset/training/images/satImage_002.png\n",
      "Loading ../dataset/training/images/satImage_003.png\n",
      "Loading ../dataset/training/images/satImage_004.png\n",
      "Loading ../dataset/training/images/satImage_005.png\n",
      "Loading ../dataset/training/images/satImage_006.png\n",
      "Loading ../dataset/training/images/satImage_007.png\n",
      "Loading ../dataset/training/images/satImage_008.png\n",
      "Loading ../dataset/training/images/satImage_009.png\n",
      "Loading ../dataset/training/images/satImage_010.png\n",
      "Loading ../dataset/training/groundtruth/satImage_001.png\n",
      "Loading ../dataset/training/groundtruth/satImage_002.png\n",
      "Loading ../dataset/training/groundtruth/satImage_003.png\n",
      "Loading ../dataset/training/groundtruth/satImage_004.png\n",
      "Loading ../dataset/training/groundtruth/satImage_005.png\n",
      "Loading ../dataset/training/groundtruth/satImage_006.png\n",
      "Loading ../dataset/training/groundtruth/satImage_007.png\n",
      "Loading ../dataset/training/groundtruth/satImage_008.png\n",
      "Loading ../dataset/training/groundtruth/satImage_009.png\n",
      "Loading ../dataset/training/groundtruth/satImage_010.png\n"
     ]
    }
   ],
   "source": [
    "# Load a set of images\n",
    "root_dir = \"../dataset/training/\"\n",
    "\n",
    "image_dir = root_dir + \"images/\"\n",
    "files = os.listdir(image_dir)\n",
    "n = len(files)\n",
    "print(\"Loading \" + str(n) + \" images\")\n",
    "imgs = [load_image(image_dir + files[i]) for i in range(n)]\n",
    "print(imgs[0][2])\n",
    "\n",
    "gt_dir = root_dir + \"groundtruth/\"\n",
    "print(\"Loading \" + str(n) + \" images\")\n",
    "gt_imgs = [load_image(gt_dir + files[i]) for i in range(n)]\n",
    "print(files[0])\n",
    "\n",
    "X_train = imgs\n",
    "Y_train = gt_imgs\n",
    "\n",
    "TRAINING_SIZE = 10 \n",
    "\n",
    "data_dir = '../dataset/training/'\n",
    "train_data_filename = data_dir + 'images/'\n",
    "train_labels_filename = data_dir + 'groundtruth/' \n",
    "\n",
    "# Extract it into numpy arrays.\n",
    "train_data = extract_data(train_data_filename, TRAINING_SIZE)\n",
    "train_labels = extract_labels(train_labels_filename, TRAINING_SIZE)"
   ]
  },
  {
   "cell_type": "code",
   "execution_count": 3,
   "metadata": {},
   "outputs": [],
   "source": [
    "# Choose model\n",
    "model = BasicModel()"
   ]
  },
  {
   "cell_type": "code",
   "execution_count": 7,
   "metadata": {},
   "outputs": [
    {
     "name": "stdout",
     "output_type": "stream",
     "text": [
      "Number of data points per class: c0 = 4422 c1 = 1828\n",
      "Balancing training data...\n",
      "3656\n",
      "(6250, 16, 16, 3)\n",
      "[[1. 0.]\n",
      " [1. 0.]\n",
      " [1. 0.]\n",
      " ...\n",
      " [0. 1.]\n",
      " [0. 1.]\n",
      " [0. 1.]]\n",
      "Number of data points per class: c0 = 1828 c1 = 1828\n",
      "Epoch 1/1\n",
      "6250/6250 [==============================] - 0s 25us/step - loss: 0.5761 - acc: 0.7075\n"
     ]
    }
   ],
   "source": [
    "# Train\n",
    "model.train(train_data, train_labels)"
   ]
  },
  {
   "cell_type": "code",
   "execution_count": 9,
   "metadata": {},
   "outputs": [],
   "source": [
    "# Save weights"
   ]
  },
  {
   "cell_type": "code",
   "execution_count": 10,
   "metadata": {},
   "outputs": [],
   "source": [
    "# Predict Test Set"
   ]
  },
  {
   "cell_type": "code",
   "execution_count": 11,
   "metadata": {},
   "outputs": [],
   "source": [
    "# Create submission"
   ]
  }
 ],
 "metadata": {
  "kernelspec": {
   "display_name": "Environment (conda_tensorflow_p36)",
   "language": "python",
   "name": "conda_tensorflow_p36"
  },
  "language_info": {
   "codemirror_mode": {
    "name": "ipython",
    "version": 3
   },
   "file_extension": ".py",
   "mimetype": "text/x-python",
   "name": "python",
   "nbconvert_exporter": "python",
   "pygments_lexer": "ipython3",
   "version": "3.6.5"
  }
 },
 "nbformat": 4,
 "nbformat_minor": 2
}
